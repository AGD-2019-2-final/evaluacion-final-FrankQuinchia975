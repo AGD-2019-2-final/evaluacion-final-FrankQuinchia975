{
 "cells": [
  {
   "cell_type": "code",
   "execution_count": 1,
   "metadata": {},
   "outputs": [],
   "source": [
    "%load_ext bigdata\n",
    "%hive_start\n",
    "%timeout 300"
   ]
  },
  {
   "cell_type": "code",
   "execution_count": 125,
   "metadata": {},
   "outputs": [
    {
     "name": "stdout",
     "output_type": "stream",
     "text": [
      "mkdir: `/tmp/drivers': File exists\n"
     ]
    }
   ],
   "source": [
    "!hdfs dfs -mkdir /tmp/drivers"
   ]
  },
  {
   "cell_type": "code",
   "execution_count": 126,
   "metadata": {},
   "outputs": [
    {
     "name": "stdout",
     "output_type": "stream",
     "text": [
      "ls: `/tmp/drivers/*': No such file or directory\n"
     ]
    }
   ],
   "source": [
    "!hdfs dfs -ls /tmp/drivers/*"
   ]
  },
  {
   "cell_type": "code",
   "execution_count": 127,
   "metadata": {},
   "outputs": [
    {
     "name": "stdout",
     "output_type": "stream",
     "text": [
      "tail: `/tmp/drivers/tbl0.csv': No such file or directory\n"
     ]
    }
   ],
   "source": [
    "!hdfs dfs -tail /tmp/drivers/tbl0.csv\n"
   ]
  },
  {
   "cell_type": "code",
   "execution_count": 128,
   "metadata": {},
   "outputs": [
    {
     "name": "stdout",
     "output_type": "stream",
     "text": [
      "tail: `/tmp/drivers/tbl1.csv': No such file or directory\n"
     ]
    }
   ],
   "source": [
    "!hdfs dfs -tail /tmp/drivers/tbl1.csv"
   ]
  },
  {
   "cell_type": "code",
   "execution_count": 210,
   "metadata": {},
   "outputs": [
    {
     "name": "stdout",
     "output_type": "stream",
     "text": [
      "LOAD DATA LOCAL INPATH \"tbl0.csv\" OVERWRITE INTO TABLE tbl0;\n",
      "Loading data to table default.tbl0\n",
      "OK\n",
      "Time taken: 0.829 seconds\n",
      "DROP TABLE IF EXISTS tbl0;\n",
      "OK\n",
      "Time taken: 0.048 seconds\n",
      "CREATE TABLE tbl0 (\n",
      "    c1 INT,\n",
      "    c2 STRING,\n",
      "    c3 INT,\n",
      "    c4 STRING,\n",
      "    c5 STRING, \n",
      "    c6 MAP<STRING, INT>\n",
      ")\n",
      "ROW FORMAT DELIMITED \n",
      "FIELDS TERMINATED BY ','\n",
      "COLLECTION ITEMS TERMINATED BY ':'\n",
      "MAP KEYS TERMINATED BY '#'\n",
      "LINES TERMINATED BY '\\n';\n",
      "OK\n",
      "Time taken: 0.037 seconds\n"
     ]
    }
   ],
   "source": [
    "%%hive\n",
    "DROP TABLE IF EXISTS tbl0;\n",
    "CREATE TABLE tbl0 (\n",
    "    c1 INT,\n",
    "    c2 STRING,\n",
    "    c3 INT,\n",
    "    c4 STRING,\n",
    "    c5 STRING, \n",
    "    c6 MAP<STRING, INT>\n",
    ")\n",
    "ROW FORMAT DELIMITED \n",
    "FIELDS TERMINATED BY ','\n",
    "COLLECTION ITEMS TERMINATED BY ':'\n",
    "MAP KEYS TERMINATED BY '#'\n",
    "LINES TERMINATED BY '\\n';\n",
    "LOAD DATA LOCAL INPATH \"tbl0.csv\" OVERWRITE INTO TABLE tbl0;\n"
   ]
  },
  {
   "cell_type": "code",
   "execution_count": 275,
   "metadata": {},
   "outputs": [
    {
     "name": "stdout",
     "output_type": "stream",
     "text": [
      "SELECT * FROM tbl0;\n",
      "OK\n",
      "1\tD\t4\t2016-06-25\ta:e:c:d\t{\"bb\":10,\"dd\":20,\"cc\":40}\n",
      "2\tC\t4\t2015-05-14\ta:c\t{\"dd\":40,\"bb\":20,\"cc\":10}\n",
      "3\tD\t6\t2014-12-26\tb:d\t{\"aa\":10,\"bb\":40}\n",
      "4\tD\t5\t2016-06-25\ta:c:e:b:d\t{\"bb\":40,\"dd\":20,\"aa\":10,\"cc\":30}\n",
      "5\tC\t7\t2016-05-23\td:e:c\t{\"cc\":10,\"aa\":20}\n",
      "6\tA\t2\t2018-06-14\ta:d\t{\"aa\":20}\n",
      "7\tB\t3\t2014-12-22\ta:e:d\t{\"cc\":20}\n",
      "8\tC\t6\t2015-08-20\td:a:c:e\t{\"cc\":10,\"aa\":20}\n",
      "9\tB\t3\t2017-12-08\tb:a:c:e\t{\"cc\":40,\"dd\":10,\"aa\":30,\"bb\":20}\n",
      "10\tB\t7\t2015-07-28\tc:d:e:a:b\t{\"aa\":10,\"dd\":40,\"cc\":30}\n",
      "Time taken: 0.141 seconds, Fetched: 10 row(s)\n"
     ]
    }
   ],
   "source": [
    "%%hive\n",
    "SELECT * FROM tbl0;"
   ]
  },
  {
   "cell_type": "code",
   "execution_count": null,
   "metadata": {},
   "outputs": [],
   "source": [
    "CREATE EXTERNAL TABLE externaltbl\n",
    "LIKE\n",
    "    languages\n",
    "LOCATION '/tmp/externaltbl';"
   ]
  },
  {
   "cell_type": "code",
   "execution_count": 277,
   "metadata": {},
   "outputs": [
    {
     "name": "stdout",
     "output_type": "stream",
     "text": [
      "SELECT * FROM externaltbl;\n",
      "FAILED: SemanticException [Error 10001]: Line 1:14 Table not found 'externaltbl'\n",
      "FROM tbl0\n",
      "INSERT OVERWRITE TABLE externaltbl\n",
      "SELECT\n",
      "    c1,\n",
      "    c2;\n",
      "FAILED: SemanticException [Error 10001]: Line 2:23 Table not found 'externaltbl'\n"
     ]
    }
   ],
   "source": [
    "%%hive\n",
    "FROM tbl0\n",
    "INSERT OVERWRITE TABLE externaltbl\n",
    "SELECT\n",
    "    c1,\n",
    "    c2;\n",
    "\n",
    "SELECT * FROM externaltbl;"
   ]
  },
  {
   "cell_type": "code",
   "execution_count": 273,
   "metadata": {},
   "outputs": [
    {
     "name": "stdout",
     "output_type": "stream",
     "text": [
      "FROM tbl0;\n",
      "OK\n",
      "A:E:C:D\n",
      "A:C\n",
      "B:D\n",
      "A:C:E:B:D\n",
      "D:E:C\n",
      "A:D\n",
      "A:E:D\n",
      "D:A:C:E\n",
      "B:A:C:E\n",
      "C:D:E:A:B\n",
      "Time taken: 0.186 seconds, Fetched: 10 row(s)\n",
      "SELECT upper(c5)  \n"
     ]
    }
   ],
   "source": [
    "%%hive\n",
    "SELECT upper(c5)  \n",
    "FROM tbl0;\n"
   ]
  },
  {
   "cell_type": "code",
   "execution_count": 258,
   "metadata": {},
   "outputs": [
    {
     "name": "stdout",
     "output_type": "stream",
     "text": [
      "LIMIT 10;\n",
      "FAILED: UDFArgumentException explode() takes an array or a map as a parameter\n"
     ]
    }
   ],
   "source": [
    "%%hive\n",
    "SELECT * FROM x LIMIT 1;\n"
   ]
  },
  {
   "cell_type": "code",
   "execution_count": null,
   "metadata": {},
   "outputs": [],
   "source": []
  }
 ],
 "metadata": {
  "kernelspec": {
   "display_name": "Python 3",
   "language": "python",
   "name": "python3"
  },
  "language_info": {
   "codemirror_mode": {
    "name": "ipython",
    "version": 3
   },
   "file_extension": ".py",
   "mimetype": "text/x-python",
   "name": "python",
   "nbconvert_exporter": "python",
   "pygments_lexer": "ipython3",
   "version": "3.6.9"
  }
 },
 "nbformat": 4,
 "nbformat_minor": 4
}
