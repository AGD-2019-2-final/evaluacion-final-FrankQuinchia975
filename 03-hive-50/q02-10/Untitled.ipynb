{
 "cells": [
  {
   "cell_type": "code",
   "execution_count": 1,
   "metadata": {},
   "outputs": [],
   "source": [
    "%load_ext bigdata\n",
    "%hive_start\n",
    "%timeout 300"
   ]
  },
  {
   "cell_type": "code",
   "execution_count": 2,
   "metadata": {},
   "outputs": [],
   "source": [
    "!hdfs dfs -mkdir /tmp/drivers"
   ]
  },
  {
   "cell_type": "code",
   "execution_count": 3,
   "metadata": {},
   "outputs": [
    {
     "name": "stdout",
     "output_type": "stream",
     "text": [
      "ls: `/tmp/drivers/*': No such file or directory\n"
     ]
    }
   ],
   "source": [
    "!hdfs dfs -ls /tmp/drivers/*"
   ]
  },
  {
   "cell_type": "code",
   "execution_count": 4,
   "metadata": {},
   "outputs": [
    {
     "name": "stdout",
     "output_type": "stream",
     "text": [
      "tail: `/tmp/drivers/tbl0.csv': No such file or directory\n",
      "tail: `/tmp/drivers/tbl1.csv': No such file or directory\n"
     ]
    }
   ],
   "source": [
    "!hdfs dfs -tail /tmp/drivers/tbl0.csv\n",
    "!hdfs dfs -tail /tmp/drivers/tbl1.csv"
   ]
  },
  {
   "cell_type": "code",
   "execution_count": 29,
   "metadata": {},
   "outputs": [
    {
     "name": "stdout",
     "output_type": "stream",
     "text": [
      "DROP TABLE IF EXISTS data1;\n",
      "NoViableAltException(100@[1992:103: ( tableRowFormatMapKeysIdentifier )?])\n",
      "\tat org.antlr.runtime.DFA.noViableAlt(DFA.java:158)\n",
      "\tat org.antlr.runtime.DFA.predict(DFA.java:116)\n",
      "\tat org.apache.hadoop.hive.ql.parse.HiveParser.rowFormatDelimited(HiveParser.java:27461)\n",
      "\tat org.apache.hadoop.hive.ql.parse.HiveParser.tableRowFormat(HiveParser.java:27678)\n",
      "\tat org.apache.hadoop.hive.ql.parse.HiveParser.destination(HiveParser.java:38806)\n",
      "\tat org.apache.hadoop.hive.ql.parse.HiveParser.insertClause(HiveParser.java:38531)\n",
      "\tat org.apache.hadoop.hive.ql.parse.HiveParser.regularBody(HiveParser.java:36478)\n",
      "\tat org.apache.hadoop.hive.ql.parse.HiveParser.queryStatementExpressionBody(HiveParser.java:35822)\n",
      "\tat org.apache.hadoop.hive.ql.parse.HiveParser.queryStatementExpression(HiveParser.java:35710)\n",
      "\tat org.apache.hadoop.hive.ql.parse.HiveParser.execStatement(HiveParser.java:2284)\n",
      "\tat org.apache.hadoop.hive.ql.parse.HiveParser.statement(HiveParser.java:1333)\n",
      "\tat org.apache.hadoop.hive.ql.parse.ParseDriver.parse(ParseDriver.java:208)\n",
      "\tat org.apache.hadoop.hive.ql.parse.ParseUtils.parse(ParseUtils.java:77)\n",
      "\tat org.apache.hadoop.hive.ql.parse.ParseUtils.parse(ParseUtils.java:70)\n",
      "\tat org.apache.hadoop.hive.ql.Driver.compile(Driver.java:468)\n",
      "\tat org.apache.hadoop.hive.ql.Driver.compileInternal(Driver.java:1317)\n",
      "\tat org.apache.hadoop.hive.ql.Driver.runInternal(Driver.java:1457)\n",
      "\tat org.apache.hadoop.hive.ql.Driver.run(Driver.java:1237)\n",
      "\tat org.apache.hadoop.hive.ql.Driver.run(Driver.java:1227)\n",
      "\tat org.apache.hadoop.hive.cli.CliDriver.processLocalCmd(CliDriver.java:233)\n",
      "\tat org.apache.hadoop.hive.cli.CliDriver.processCmd(CliDriver.java:184)\n",
      "\tat org.apache.hadoop.hive.cli.CliDriver.processLine(CliDriver.java:403)\n",
      "\tat org.apache.hadoop.hive.cli.CliDriver.executeDriver(CliDriver.java:821)\n",
      "\tat org.apache.hadoop.hive.cli.CliDriver.run(CliDriver.java:759)\n",
      "\tat org.apache.hadoop.hive.cli.CliDriver.main(CliDriver.java:686)\n",
      "\tat sun.reflect.NativeMethodAccessorImpl.invoke0(Native Method)\n",
      "\tat sun.reflect.NativeMethodAccessorImpl.invoke(NativeMethodAccessorImpl.java:62)\n",
      "\tat sun.reflect.DelegatingMethodAccessorImpl.invoke(DelegatingMethodAccessorImpl.java:43)\n",
      "\tat java.lang.reflect.Method.invoke(Method.java:498)\n",
      "\tat org.apache.hadoop.util.RunJar.run(RunJar.java:239)\n",
      "\tat org.apache.hadoop.util.RunJar.main(RunJar.java:153)\n",
      "FAILED: ParseException line 3:0 cannot recognize input near 'DROP' 'TABLE' 'IF' in serde properties specification\n",
      "CREATE TABLE data1 (f1 string,\n",
      "                      f2 string,\n",
      "                      f3 int )\n",
      "ROW FORMAT DELIMITED \n",
      "FIELDS TERMINATED BY '\\t';\n",
      "FAILED: SemanticException org.apache.hadoop.hive.ql.metadata.HiveException: java.lang.RuntimeException: Unable to instantiate org.apache.hadoop.hive.ql.metadata.SessionHiveMetaStoreClient\n",
      "LOAD DATA LOCAL INPATH \"data.tsv\" OVERWRITE INTO TABLE data1;\n",
      "FAILED: SemanticException org.apache.hadoop.hive.ql.metadata.HiveException: java.lang.RuntimeException: Unable to instantiate org.apache.hadoop.hive.ql.metadata.SessionHiveMetaStoreClient\n",
      "INSERT OVERWRITE LOCAL DIRECTORY 'output'\n",
      "ROW FORMAT DELIMITED FIELDS TERMINATED BY ','\n"
     ]
    }
   ],
   "source": [
    "%%hive\n",
    "DROP TABLE IF EXISTS tbl0;\n",
    "CREATE TABLE tbl0 (\n",
    "    c1 INT,\n",
    "    c2 STRING,\n",
    "    c3 INT,\n",
    "    c4 STRING,\n",
    "    c5 STRING, \n",
    "    c6 MAP<STRING, INT>\n",
    ")\n",
    "ROW FORMAT DELIMITED \n",
    "FIELDS TERMINATED BY ','\n",
    "COLLECTION ITEMS TERMINATED BY ':'\n",
    "MAP KEYS TERMINATED BY '#'\n",
    "LINES TERMINATED BY '\\n';\n",
    "LOAD DATA LOCAL INPATH \"tbl0.csv\" OVERWRITE INTO TABLE tbl0;\n",
    "\n",
    "INSERT OVERWRITE LOCAL DIRECTORY 'output'\n",
    "ROW FORMAT DELIMITED \n",
    "FIELDS TERMINATED BY ','\n",
    "SELECT  word, c4, count(1) AS count\n",
    "FROM (SELECT  explode(split(c5, '\\\\:'))  AS word, c4  FROM tbl0) w \n",
    "GROUP BY word\n",
    "ORDER BY  word ; "
   ]
  },
  {
   "cell_type": "code",
   "execution_count": 23,
   "metadata": {},
   "outputs": [
    {
     "name": "stdout",
     "output_type": "stream",
     "text": [
      "SELECT *\n",
      "FROM data1\n",
      "ORDER BY f1,f2;\n",
      "WARNING: Hive-on-MR is deprecated in Hive 2 and may not be available in the future versions. Consider using a different execution engine (i.e. spark, tez) or using Hive 1.X releases.\n",
      "Query ID = root_20200204010430_15af2039-a365-49c3-9aa2-78b1224b073f\n",
      "Total jobs = 1\n",
      "Launching Job 1 out of 1\n",
      "Number of reduce tasks determined at compile time: 1\n",
      "In order to change the average load for a reducer (in bytes):\n",
      "  set hive.exec.reducers.bytes.per.reducer=<number>\n",
      "In order to limit the maximum number of reducers:\n",
      "  set hive.exec.reducers.max=<number>\n",
      "In order to set a constant number of reducers:\n",
      "  set mapreduce.job.reduces=<number>\n",
      "Starting Job = job_1580776432620_0005, Tracking URL = http://cc7f49fceb59:8088/proxy/application_1580776432620_0005/\n",
      "Kill Command = /usr/local/hadoop/bin/hadoop job  -kill job_1580776432620_0005\n",
      "Hadoop job information for Stage-1: number of mappers: 1; number of reducers: 1\n",
      "2020-02-04 01:04:50,779 Stage-1 map = 0%,  reduce = 0%\n",
      "2020-02-04 01:05:01,828 Stage-1 map = 100%,  reduce = 0%, Cumulative CPU 9.94 sec\n",
      "2020-02-04 01:05:10,058 Stage-1 map = 100%,  reduce = 100%, Cumulative CPU 13.71 sec\n",
      "MapReduce Total cumulative CPU time: 13 seconds 710 msec\n",
      "Ended Job = job_1580776432620_0005\n",
      "Moving data to local directory output\n",
      "MapReduce Jobs Launched: \n",
      "Stage-Stage-1: Map: 1  Reduce: 1   Cumulative CPU: 13.71 sec   HDFS Read: 7606 HDFS Write: 637 SUCCESS\n",
      "Total MapReduce CPU Time Spent: 13 seconds 710 msec\n",
      "OK\n",
      "Time taken: 43.388 seconds\n"
     ]
    }
   ],
   "source": [
    "%%hive\n",
    "SELECT *\n",
    "FROM data1\n",
    "ORDER BY f1,f2;"
   ]
  },
  {
   "cell_type": "code",
   "execution_count": null,
   "metadata": {},
   "outputs": [],
   "source": []
  }
 ],
 "metadata": {
  "kernelspec": {
   "display_name": "Python 3",
   "language": "python",
   "name": "python3"
  },
  "language_info": {
   "codemirror_mode": {
    "name": "ipython",
    "version": 3
   },
   "file_extension": ".py",
   "mimetype": "text/x-python",
   "name": "python",
   "nbconvert_exporter": "python",
   "pygments_lexer": "ipython3",
   "version": "3.6.9"
  }
 },
 "nbformat": 4,
 "nbformat_minor": 4
}
